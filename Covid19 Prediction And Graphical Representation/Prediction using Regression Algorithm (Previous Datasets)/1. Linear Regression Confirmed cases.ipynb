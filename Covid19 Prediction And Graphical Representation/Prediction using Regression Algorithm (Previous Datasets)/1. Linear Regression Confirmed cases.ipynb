{
 "cells": [
  {
   "cell_type": "code",
   "execution_count": 1,
   "metadata": {},
   "outputs": [],
   "source": [
    "import pandas as pd\n",
    "import matplotlib.pyplot as plt\n",
    "import numpy as np\n",
    "from sklearn.model_selection import train_test_split\n",
    "from sklearn.linear_model import LinearRegression\n",
    "from sklearn.metrics import confusion_matrix\n",
    "from sklearn.metrics import r2_score"
   ]
  },
  {
   "cell_type": "code",
   "execution_count": 2,
   "metadata": {
    "scrolled": true
   },
   "outputs": [
    {
     "data": {
      "text/html": [
       "<div>\n",
       "<style scoped>\n",
       "    .dataframe tbody tr th:only-of-type {\n",
       "        vertical-align: middle;\n",
       "    }\n",
       "\n",
       "    .dataframe tbody tr th {\n",
       "        vertical-align: top;\n",
       "    }\n",
       "\n",
       "    .dataframe thead th {\n",
       "        text-align: right;\n",
       "    }\n",
       "</style>\n",
       "<table border=\"1\" class=\"dataframe\">\n",
       "  <thead>\n",
       "    <tr style=\"text-align: right;\">\n",
       "      <th></th>\n",
       "      <th>Month_with_date</th>\n",
       "      <th>Counting_from_april</th>\n",
       "      <th>Confirmed_Cases</th>\n",
       "      <th>Recovered_Cases</th>\n",
       "      <th>Deceased_Cases</th>\n",
       "    </tr>\n",
       "  </thead>\n",
       "  <tbody>\n",
       "    <tr>\n",
       "      <td>0</td>\n",
       "      <td>April-1-2020</td>\n",
       "      <td>1</td>\n",
       "      <td>2059</td>\n",
       "      <td>169</td>\n",
       "      <td>53</td>\n",
       "    </tr>\n",
       "    <tr>\n",
       "      <td>1</td>\n",
       "      <td>April-2-2020</td>\n",
       "      <td>2</td>\n",
       "      <td>2545</td>\n",
       "      <td>191</td>\n",
       "      <td>69</td>\n",
       "    </tr>\n",
       "    <tr>\n",
       "      <td>2</td>\n",
       "      <td>April-3-2020</td>\n",
       "      <td>3</td>\n",
       "      <td>3105</td>\n",
       "      <td>230</td>\n",
       "      <td>83</td>\n",
       "    </tr>\n",
       "    <tr>\n",
       "      <td>3</td>\n",
       "      <td>April-4-2020</td>\n",
       "      <td>4</td>\n",
       "      <td>3684</td>\n",
       "      <td>286</td>\n",
       "      <td>96</td>\n",
       "    </tr>\n",
       "    <tr>\n",
       "      <td>4</td>\n",
       "      <td>April-5-2020</td>\n",
       "      <td>5</td>\n",
       "      <td>4293</td>\n",
       "      <td>329</td>\n",
       "      <td>118</td>\n",
       "    </tr>\n",
       "    <tr>\n",
       "      <td>5</td>\n",
       "      <td>April-6-2020</td>\n",
       "      <td>6</td>\n",
       "      <td>4777</td>\n",
       "      <td>394</td>\n",
       "      <td>134</td>\n",
       "    </tr>\n",
       "    <tr>\n",
       "      <td>6</td>\n",
       "      <td>April-7-2020</td>\n",
       "      <td>7</td>\n",
       "      <td>5350</td>\n",
       "      <td>469</td>\n",
       "      <td>161</td>\n",
       "    </tr>\n",
       "    <tr>\n",
       "      <td>7</td>\n",
       "      <td>April-8-2020</td>\n",
       "      <td>8</td>\n",
       "      <td>5915</td>\n",
       "      <td>565</td>\n",
       "      <td>181</td>\n",
       "    </tr>\n",
       "    <tr>\n",
       "      <td>8</td>\n",
       "      <td>April-9-2020</td>\n",
       "      <td>9</td>\n",
       "      <td>6728</td>\n",
       "      <td>635</td>\n",
       "      <td>227</td>\n",
       "    </tr>\n",
       "    <tr>\n",
       "      <td>9</td>\n",
       "      <td>April-10-2020</td>\n",
       "      <td>10</td>\n",
       "      <td>7599</td>\n",
       "      <td>786</td>\n",
       "      <td>249</td>\n",
       "    </tr>\n",
       "    <tr>\n",
       "      <td>10</td>\n",
       "      <td>April-11-2020</td>\n",
       "      <td>11</td>\n",
       "      <td>8453</td>\n",
       "      <td>972</td>\n",
       "      <td>290</td>\n",
       "    </tr>\n",
       "    <tr>\n",
       "      <td>11</td>\n",
       "      <td>April-12-2020</td>\n",
       "      <td>12</td>\n",
       "      <td>9211</td>\n",
       "      <td>1086</td>\n",
       "      <td>332</td>\n",
       "    </tr>\n",
       "    <tr>\n",
       "      <td>12</td>\n",
       "      <td>April-13-2020</td>\n",
       "      <td>13</td>\n",
       "      <td>10454</td>\n",
       "      <td>1198</td>\n",
       "      <td>359</td>\n",
       "    </tr>\n",
       "    <tr>\n",
       "      <td>13</td>\n",
       "      <td>April-14-2020</td>\n",
       "      <td>14</td>\n",
       "      <td>11485</td>\n",
       "      <td>1365</td>\n",
       "      <td>396</td>\n",
       "    </tr>\n",
       "    <tr>\n",
       "      <td>14</td>\n",
       "      <td>April-15-2020</td>\n",
       "      <td>15</td>\n",
       "      <td>12371</td>\n",
       "      <td>1509</td>\n",
       "      <td>423</td>\n",
       "    </tr>\n",
       "    <tr>\n",
       "      <td>15</td>\n",
       "      <td>April-16-2020</td>\n",
       "      <td>16</td>\n",
       "      <td>13432</td>\n",
       "      <td>1767</td>\n",
       "      <td>449</td>\n",
       "    </tr>\n",
       "    <tr>\n",
       "      <td>16</td>\n",
       "      <td>April-17-2020</td>\n",
       "      <td>17</td>\n",
       "      <td>14354</td>\n",
       "      <td>2040</td>\n",
       "      <td>487</td>\n",
       "    </tr>\n",
       "    <tr>\n",
       "      <td>17</td>\n",
       "      <td>April-18-2020</td>\n",
       "      <td>18</td>\n",
       "      <td>15725</td>\n",
       "      <td>2466</td>\n",
       "      <td>522</td>\n",
       "    </tr>\n",
       "    <tr>\n",
       "      <td>18</td>\n",
       "      <td>April-19-2020</td>\n",
       "      <td>19</td>\n",
       "      <td>17305</td>\n",
       "      <td>2854</td>\n",
       "      <td>560</td>\n",
       "    </tr>\n",
       "    <tr>\n",
       "      <td>19</td>\n",
       "      <td>April-20-2020</td>\n",
       "      <td>20</td>\n",
       "      <td>18544</td>\n",
       "      <td>3273</td>\n",
       "      <td>593</td>\n",
       "    </tr>\n",
       "    <tr>\n",
       "      <td>20</td>\n",
       "      <td>April-21-2020</td>\n",
       "      <td>21</td>\n",
       "      <td>20081</td>\n",
       "      <td>3967</td>\n",
       "      <td>646</td>\n",
       "    </tr>\n",
       "    <tr>\n",
       "      <td>21</td>\n",
       "      <td>April-22-2020</td>\n",
       "      <td>22</td>\n",
       "      <td>21373</td>\n",
       "      <td>4370</td>\n",
       "      <td>682</td>\n",
       "    </tr>\n",
       "    <tr>\n",
       "      <td>22</td>\n",
       "      <td>April-23-2020</td>\n",
       "      <td>23</td>\n",
       "      <td>23040</td>\n",
       "      <td>5012</td>\n",
       "      <td>722</td>\n",
       "    </tr>\n",
       "    <tr>\n",
       "      <td>23</td>\n",
       "      <td>April-24-2020</td>\n",
       "      <td>24</td>\n",
       "      <td>24448</td>\n",
       "      <td>5496</td>\n",
       "      <td>781</td>\n",
       "    </tr>\n",
       "    <tr>\n",
       "      <td>24</td>\n",
       "      <td>April-25-2020</td>\n",
       "      <td>25</td>\n",
       "      <td>26238</td>\n",
       "      <td>5938</td>\n",
       "      <td>825</td>\n",
       "    </tr>\n",
       "    <tr>\n",
       "      <td>25</td>\n",
       "      <td>April-26-2020</td>\n",
       "      <td>26</td>\n",
       "      <td>27890</td>\n",
       "      <td>6523</td>\n",
       "      <td>881</td>\n",
       "    </tr>\n",
       "    <tr>\n",
       "      <td>26</td>\n",
       "      <td>April-27-2020</td>\n",
       "      <td>27</td>\n",
       "      <td>29458</td>\n",
       "      <td>7103</td>\n",
       "      <td>939</td>\n",
       "    </tr>\n",
       "    <tr>\n",
       "      <td>27</td>\n",
       "      <td>April-28-2020</td>\n",
       "      <td>28</td>\n",
       "      <td>31360</td>\n",
       "      <td>7739</td>\n",
       "      <td>1008</td>\n",
       "    </tr>\n",
       "    <tr>\n",
       "      <td>28</td>\n",
       "      <td>April-29-2020</td>\n",
       "      <td>29</td>\n",
       "      <td>33065</td>\n",
       "      <td>8429</td>\n",
       "      <td>1079</td>\n",
       "    </tr>\n",
       "    <tr>\n",
       "      <td>29</td>\n",
       "      <td>April-30-2020</td>\n",
       "      <td>30</td>\n",
       "      <td>34866</td>\n",
       "      <td>9059</td>\n",
       "      <td>1154</td>\n",
       "    </tr>\n",
       "    <tr>\n",
       "      <td>30</td>\n",
       "      <td>May-1-2020</td>\n",
       "      <td>31</td>\n",
       "      <td>37262</td>\n",
       "      <td>10021</td>\n",
       "      <td>1231</td>\n",
       "    </tr>\n",
       "    <tr>\n",
       "      <td>31</td>\n",
       "      <td>May-2-2020</td>\n",
       "      <td>32</td>\n",
       "      <td>39826</td>\n",
       "      <td>10852</td>\n",
       "      <td>1323</td>\n",
       "    </tr>\n",
       "    <tr>\n",
       "      <td>32</td>\n",
       "      <td>May-3-2020</td>\n",
       "      <td>33</td>\n",
       "      <td>42778</td>\n",
       "      <td>11763</td>\n",
       "      <td>1463</td>\n",
       "    </tr>\n",
       "    <tr>\n",
       "      <td>33</td>\n",
       "      <td>May-4-2020</td>\n",
       "      <td>34</td>\n",
       "      <td>46434</td>\n",
       "      <td>12845</td>\n",
       "      <td>1566</td>\n",
       "    </tr>\n",
       "    <tr>\n",
       "      <td>34</td>\n",
       "      <td>April-5-2020</td>\n",
       "      <td>35</td>\n",
       "      <td>49405</td>\n",
       "      <td>14140</td>\n",
       "      <td>1694</td>\n",
       "    </tr>\n",
       "    <tr>\n",
       "      <td>35</td>\n",
       "      <td>May-6-2020</td>\n",
       "      <td>36</td>\n",
       "      <td>53007</td>\n",
       "      <td>15301</td>\n",
       "      <td>1785</td>\n",
       "    </tr>\n",
       "    <tr>\n",
       "      <td>36</td>\n",
       "      <td>May-7-2020</td>\n",
       "      <td>37</td>\n",
       "      <td>56351</td>\n",
       "      <td>16776</td>\n",
       "      <td>1889</td>\n",
       "    </tr>\n",
       "    <tr>\n",
       "      <td>37</td>\n",
       "      <td>May-8-2020</td>\n",
       "      <td>38</td>\n",
       "      <td>59690</td>\n",
       "      <td>17887</td>\n",
       "      <td>1986</td>\n",
       "    </tr>\n",
       "    <tr>\n",
       "      <td>38</td>\n",
       "      <td>May-9-2020</td>\n",
       "      <td>39</td>\n",
       "      <td>62865</td>\n",
       "      <td>19301</td>\n",
       "      <td>2101</td>\n",
       "    </tr>\n",
       "    <tr>\n",
       "      <td>39</td>\n",
       "      <td>May-10-2020</td>\n",
       "      <td>40</td>\n",
       "      <td>67176</td>\n",
       "      <td>20970</td>\n",
       "      <td>2213</td>\n",
       "    </tr>\n",
       "    <tr>\n",
       "      <td>40</td>\n",
       "      <td>May-11-2020</td>\n",
       "      <td>41</td>\n",
       "      <td>70768</td>\n",
       "      <td>22549</td>\n",
       "      <td>2294</td>\n",
       "    </tr>\n",
       "    <tr>\n",
       "      <td>41</td>\n",
       "      <td>May-12-2020</td>\n",
       "      <td>42</td>\n",
       "      <td>74330</td>\n",
       "      <td>24454</td>\n",
       "      <td>2414</td>\n",
       "    </tr>\n",
       "    <tr>\n",
       "      <td>42</td>\n",
       "      <td>May-13-2020</td>\n",
       "      <td>43</td>\n",
       "      <td>78056</td>\n",
       "      <td>26417</td>\n",
       "      <td>2551</td>\n",
       "    </tr>\n",
       "    <tr>\n",
       "      <td>43</td>\n",
       "      <td>May-14-2020</td>\n",
       "      <td>44</td>\n",
       "      <td>82047</td>\n",
       "      <td>28011</td>\n",
       "      <td>2648</td>\n",
       "    </tr>\n",
       "    <tr>\n",
       "      <td>44</td>\n",
       "      <td>May-15-2020</td>\n",
       "      <td>45</td>\n",
       "      <td>85855</td>\n",
       "      <td>30245</td>\n",
       "      <td>2752</td>\n",
       "    </tr>\n",
       "    <tr>\n",
       "      <td>45</td>\n",
       "      <td>May-16-2020</td>\n",
       "      <td>46</td>\n",
       "      <td>90649</td>\n",
       "      <td>34257</td>\n",
       "      <td>2872</td>\n",
       "    </tr>\n",
       "    <tr>\n",
       "      <td>46</td>\n",
       "      <td>May-17-2020</td>\n",
       "      <td>47</td>\n",
       "      <td>95698</td>\n",
       "      <td>36795</td>\n",
       "      <td>3024</td>\n",
       "    </tr>\n",
       "    <tr>\n",
       "      <td>47</td>\n",
       "      <td>May-18-2020</td>\n",
       "      <td>48</td>\n",
       "      <td>100326</td>\n",
       "      <td>39277</td>\n",
       "      <td>3155</td>\n",
       "    </tr>\n",
       "    <tr>\n",
       "      <td>48</td>\n",
       "      <td>May-19-2020</td>\n",
       "      <td>49</td>\n",
       "      <td>106480</td>\n",
       "      <td>42309</td>\n",
       "      <td>3301</td>\n",
       "    </tr>\n",
       "    <tr>\n",
       "      <td>49</td>\n",
       "      <td>May-20-2020</td>\n",
       "      <td>50</td>\n",
       "      <td>112200</td>\n",
       "      <td>45422</td>\n",
       "      <td>3435</td>\n",
       "    </tr>\n",
       "    <tr>\n",
       "      <td>50</td>\n",
       "      <td>May-21-2020</td>\n",
       "      <td>51</td>\n",
       "      <td>118223</td>\n",
       "      <td>48553</td>\n",
       "      <td>3583</td>\n",
       "    </tr>\n",
       "    <tr>\n",
       "      <td>51</td>\n",
       "      <td>May-22-2020</td>\n",
       "      <td>52</td>\n",
       "      <td>124759</td>\n",
       "      <td>51833</td>\n",
       "      <td>3725</td>\n",
       "    </tr>\n",
       "    <tr>\n",
       "      <td>52</td>\n",
       "      <td>May-23-2020</td>\n",
       "      <td>53</td>\n",
       "      <td>131422</td>\n",
       "      <td>54409</td>\n",
       "      <td>3867</td>\n",
       "    </tr>\n",
       "    <tr>\n",
       "      <td>53</td>\n",
       "      <td>May-24-2020</td>\n",
       "      <td>54</td>\n",
       "      <td>138535</td>\n",
       "      <td>57694</td>\n",
       "      <td>4023</td>\n",
       "    </tr>\n",
       "    <tr>\n",
       "      <td>54</td>\n",
       "      <td>May-25-2020</td>\n",
       "      <td>55</td>\n",
       "      <td>144949</td>\n",
       "      <td>60706</td>\n",
       "      <td>4173</td>\n",
       "    </tr>\n",
       "    <tr>\n",
       "      <td>55</td>\n",
       "      <td>May-26-2020</td>\n",
       "      <td>56</td>\n",
       "      <td>150815</td>\n",
       "      <td>64277</td>\n",
       "      <td>4346</td>\n",
       "    </tr>\n",
       "  </tbody>\n",
       "</table>\n",
       "</div>"
      ],
      "text/plain": [
       "   Month_with_date  Counting_from_april  Confirmed_Cases  Recovered_Cases  \\\n",
       "0     April-1-2020                    1             2059              169   \n",
       "1     April-2-2020                    2             2545              191   \n",
       "2     April-3-2020                    3             3105              230   \n",
       "3     April-4-2020                    4             3684              286   \n",
       "4     April-5-2020                    5             4293              329   \n",
       "5     April-6-2020                    6             4777              394   \n",
       "6     April-7-2020                    7             5350              469   \n",
       "7     April-8-2020                    8             5915              565   \n",
       "8     April-9-2020                    9             6728              635   \n",
       "9    April-10-2020                   10             7599              786   \n",
       "10   April-11-2020                   11             8453              972   \n",
       "11   April-12-2020                   12             9211             1086   \n",
       "12   April-13-2020                   13            10454             1198   \n",
       "13   April-14-2020                   14            11485             1365   \n",
       "14   April-15-2020                   15            12371             1509   \n",
       "15   April-16-2020                   16            13432             1767   \n",
       "16   April-17-2020                   17            14354             2040   \n",
       "17   April-18-2020                   18            15725             2466   \n",
       "18   April-19-2020                   19            17305             2854   \n",
       "19   April-20-2020                   20            18544             3273   \n",
       "20   April-21-2020                   21            20081             3967   \n",
       "21   April-22-2020                   22            21373             4370   \n",
       "22   April-23-2020                   23            23040             5012   \n",
       "23   April-24-2020                   24            24448             5496   \n",
       "24   April-25-2020                   25            26238             5938   \n",
       "25   April-26-2020                   26            27890             6523   \n",
       "26   April-27-2020                   27            29458             7103   \n",
       "27   April-28-2020                   28            31360             7739   \n",
       "28   April-29-2020                   29            33065             8429   \n",
       "29   April-30-2020                   30            34866             9059   \n",
       "30      May-1-2020                   31            37262            10021   \n",
       "31      May-2-2020                   32            39826            10852   \n",
       "32      May-3-2020                   33            42778            11763   \n",
       "33      May-4-2020                   34            46434            12845   \n",
       "34    April-5-2020                   35            49405            14140   \n",
       "35      May-6-2020                   36            53007            15301   \n",
       "36      May-7-2020                   37            56351            16776   \n",
       "37      May-8-2020                   38            59690            17887   \n",
       "38      May-9-2020                   39            62865            19301   \n",
       "39     May-10-2020                   40            67176            20970   \n",
       "40     May-11-2020                   41            70768            22549   \n",
       "41     May-12-2020                   42            74330            24454   \n",
       "42     May-13-2020                   43            78056            26417   \n",
       "43     May-14-2020                   44            82047            28011   \n",
       "44     May-15-2020                   45            85855            30245   \n",
       "45     May-16-2020                   46            90649            34257   \n",
       "46     May-17-2020                   47            95698            36795   \n",
       "47     May-18-2020                   48           100326            39277   \n",
       "48     May-19-2020                   49           106480            42309   \n",
       "49     May-20-2020                   50           112200            45422   \n",
       "50     May-21-2020                   51           118223            48553   \n",
       "51     May-22-2020                   52           124759            51833   \n",
       "52     May-23-2020                   53           131422            54409   \n",
       "53     May-24-2020                   54           138535            57694   \n",
       "54     May-25-2020                   55           144949            60706   \n",
       "55     May-26-2020                   56           150815            64277   \n",
       "\n",
       "    Deceased_Cases  \n",
       "0               53  \n",
       "1               69  \n",
       "2               83  \n",
       "3               96  \n",
       "4              118  \n",
       "5              134  \n",
       "6              161  \n",
       "7              181  \n",
       "8              227  \n",
       "9              249  \n",
       "10             290  \n",
       "11             332  \n",
       "12             359  \n",
       "13             396  \n",
       "14             423  \n",
       "15             449  \n",
       "16             487  \n",
       "17             522  \n",
       "18             560  \n",
       "19             593  \n",
       "20             646  \n",
       "21             682  \n",
       "22             722  \n",
       "23             781  \n",
       "24             825  \n",
       "25             881  \n",
       "26             939  \n",
       "27            1008  \n",
       "28            1079  \n",
       "29            1154  \n",
       "30            1231  \n",
       "31            1323  \n",
       "32            1463  \n",
       "33            1566  \n",
       "34            1694  \n",
       "35            1785  \n",
       "36            1889  \n",
       "37            1986  \n",
       "38            2101  \n",
       "39            2213  \n",
       "40            2294  \n",
       "41            2414  \n",
       "42            2551  \n",
       "43            2648  \n",
       "44            2752  \n",
       "45            2872  \n",
       "46            3024  \n",
       "47            3155  \n",
       "48            3301  \n",
       "49            3435  \n",
       "50            3583  \n",
       "51            3725  \n",
       "52            3867  \n",
       "53            4023  \n",
       "54            4173  \n",
       "55            4346  "
      ]
     },
     "execution_count": 2,
     "metadata": {},
     "output_type": "execute_result"
    }
   ],
   "source": [
    "data= pd.read_csv(\"Prediction.csv\")\n",
    "data"
   ]
  },
  {
   "cell_type": "code",
   "execution_count": 3,
   "metadata": {},
   "outputs": [],
   "source": [
    "real_x= data.iloc[:,1].values\n",
    "real_y= data.iloc[:,2].values\n",
    "real_x= real_x.reshape(-1,1)\n",
    "real_y= real_y.reshape(-1,1)"
   ]
  },
  {
   "cell_type": "code",
   "execution_count": 4,
   "metadata": {},
   "outputs": [],
   "source": [
    "training_x,testing_x,training_y,testing_y = train_test_split(real_x,real_y,test_size=0.3,random_state=0) "
   ]
  },
  {
   "cell_type": "code",
   "execution_count": 5,
   "metadata": {},
   "outputs": [
    {
     "data": {
      "text/plain": [
       "LinearRegression(copy_X=True, fit_intercept=True, n_jobs=None, normalize=False)"
      ]
     },
     "execution_count": 5,
     "metadata": {},
     "output_type": "execute_result"
    }
   ],
   "source": [
    "Lin= LinearRegression()\n",
    "Lin.fit(training_x,training_y)"
   ]
  },
  {
   "cell_type": "code",
   "execution_count": 6,
   "metadata": {},
   "outputs": [],
   "source": [
    "pred_y= Lin.predict(testing_x)"
   ]
  },
  {
   "cell_type": "code",
   "execution_count": 7,
   "metadata": {},
   "outputs": [
    {
     "data": {
      "text/plain": [
       "array([[46],\n",
       "       [34],\n",
       "       [41],\n",
       "       [27],\n",
       "       [12],\n",
       "       [ 3],\n",
       "       [33],\n",
       "       [44],\n",
       "       [47],\n",
       "       [31],\n",
       "       [ 5],\n",
       "       [11],\n",
       "       [29],\n",
       "       [23],\n",
       "       [32],\n",
       "       [50],\n",
       "       [38]], dtype=int64)"
      ]
     },
     "execution_count": 7,
     "metadata": {},
     "output_type": "execute_result"
    }
   ],
   "source": [
    "testing_x"
   ]
  },
  {
   "cell_type": "code",
   "execution_count": 8,
   "metadata": {},
   "outputs": [
    {
     "data": {
      "text/plain": [
       "array([[ 90649],\n",
       "       [ 46434],\n",
       "       [ 70768],\n",
       "       [ 29458],\n",
       "       [  9211],\n",
       "       [  3105],\n",
       "       [ 42778],\n",
       "       [ 82047],\n",
       "       [ 95698],\n",
       "       [ 37262],\n",
       "       [  4293],\n",
       "       [  8453],\n",
       "       [ 33065],\n",
       "       [ 23040],\n",
       "       [ 39826],\n",
       "       [112200],\n",
       "       [ 59690]], dtype=int64)"
      ]
     },
     "execution_count": 8,
     "metadata": {},
     "output_type": "execute_result"
    }
   ],
   "source": [
    "testing_y"
   ]
  },
  {
   "cell_type": "code",
   "execution_count": 9,
   "metadata": {},
   "outputs": [
    {
     "data": {
      "text/plain": [
       "array([[ 95269.2519925 ],\n",
       "       [ 64001.68674749],\n",
       "       [ 82241.09980708],\n",
       "       [ 45762.27368789],\n",
       "       [  6677.81713162],\n",
       "       [-16772.85680214],\n",
       "       [ 61396.0563104 ],\n",
       "       [ 90057.99111833],\n",
       "       [ 97874.88242959],\n",
       "       [ 56184.79543623],\n",
       "       [-11561.59592797],\n",
       "       [  4072.18669454],\n",
       "       [ 50973.53456206],\n",
       "       [ 35339.75193955],\n",
       "       [ 58790.42587332],\n",
       "       [105691.77374084],\n",
       "       [ 74424.20849583]])"
      ]
     },
     "execution_count": 9,
     "metadata": {},
     "output_type": "execute_result"
    }
   ],
   "source": [
    "pred_y"
   ]
  },
  {
   "cell_type": "code",
   "execution_count": 10,
   "metadata": {},
   "outputs": [
    {
     "data": {
      "text/plain": [
       "array([[131748.07811169]])"
      ]
     },
     "execution_count": 10,
     "metadata": {},
     "output_type": "execute_result"
    }
   ],
   "source": [
    "Lin.predict([[60]])"
   ]
  },
  {
   "cell_type": "code",
   "execution_count": 11,
   "metadata": {},
   "outputs": [
    {
     "data": {
      "text/plain": [
       "array([[361043.55657515]])"
      ]
     },
     "execution_count": 11,
     "metadata": {},
     "output_type": "execute_result"
    }
   ],
   "source": [
    "Lin.predict([[148]])"
   ]
  },
  {
   "cell_type": "code",
   "execution_count": 12,
   "metadata": {},
   "outputs": [
    {
     "data": {
      "text/plain": [
       "array([[2605.63043708]])"
      ]
     },
     "execution_count": 12,
     "metadata": {},
     "output_type": "execute_result"
    }
   ],
   "source": [
    "Lin.coef_"
   ]
  },
  {
   "cell_type": "code",
   "execution_count": 13,
   "metadata": {},
   "outputs": [
    {
     "data": {
      "text/plain": [
       "array([-24589.74811339])"
      ]
     },
     "execution_count": 13,
     "metadata": {},
     "output_type": "execute_result"
    }
   ],
   "source": [
    "Lin.intercept_"
   ]
  },
  {
   "cell_type": "code",
   "execution_count": 14,
   "metadata": {},
   "outputs": [
    {
     "data": {
      "text/plain": [
       "157804.38248221"
      ]
     },
     "execution_count": 14,
     "metadata": {},
     "output_type": "execute_result"
    }
   ],
   "source": [
    "-24589.74811339+70*2605.63043708"
   ]
  },
  {
   "cell_type": "code",
   "execution_count": 15,
   "metadata": {},
   "outputs": [
    {
     "data": {
      "text/plain": [
       "array([8453], dtype=int64)"
      ]
     },
     "execution_count": 15,
     "metadata": {},
     "output_type": "execute_result"
    }
   ],
   "source": [
    "testing_y[11]"
   ]
  },
  {
   "cell_type": "code",
   "execution_count": 16,
   "metadata": {},
   "outputs": [
    {
     "data": {
      "text/plain": [
       "array([105691.77374084])"
      ]
     },
     "execution_count": 16,
     "metadata": {},
     "output_type": "execute_result"
    }
   ],
   "source": [
    "pred_y[15]"
   ]
  },
  {
   "cell_type": "code",
   "execution_count": 17,
   "metadata": {},
   "outputs": [
    {
     "data": {
      "image/png": "[encoded data removed]",
      "text/plain": [
       "<Figure size 432x288 with 1 Axes>"
      ]
     },
     "metadata": {
      "needs_background": "light"
     },
     "output_type": "display_data"
    }
   ],
   "source": [
    "plt.scatter(training_x,training_y,color=\"red\")\n",
    "plt.plot(training_x,Lin.predict(training_x),color=\"blue\")\n",
    "plt.title(\"prediction of Confirmed cases\")\n",
    "plt.xlabel(\"Date from arpril 1\")\n",
    "plt.ylabel(\"Confirmed cases\")\n",
    "plt.show()"
   ]
  },
  {
   "cell_type": "code",
   "execution_count": 18,
   "metadata": {},
   "outputs": [
    {
     "data": {
      "image/png": "[encoded data removed]",
      "text/plain": [
       "<Figure size 432x288 with 1 Axes>"
      ]
     },
     "metadata": {
      "needs_background": "light"
     },
     "output_type": "display_data"
    }
   ],
   "source": [
    "plt.scatter(testing_x,testing_y,color=\"red\")\n",
    "plt.plot(training_x,Lin.predict(training_x),color=\"blue\")\n",
    "plt.title(\"prediction of Confirmed cases\")\n",
    "plt.xlabel(\"Date from arpril 1\")\n",
    "plt.ylabel(\"Confirmed cases\")\n",
    "plt.show()"
   ]
  },
  {
   "cell_type": "code",
   "execution_count": 19,
   "metadata": {},
   "outputs": [
    {
     "data": {
      "text/plain": [
       "82.23999634210726"
      ]
     },
     "execution_count": 19,
     "metadata": {},
     "output_type": "execute_result"
    }
   ],
   "source": [
    "r2_score(testing_y,pred_y)*100 #Check Accuracy"
   ]
  },
  {
   "cell_type": "code",
   "execution_count": null,
   "metadata": {},
   "outputs": [],
   "source": []
  }
 ],
 "metadata": {
  "kernelspec": {
   "display_name": "Python 3",
   "language": "python",
   "name": "python3"
  },
  "language_info": {
   "codemirror_mode": {
    "name": "ipython",
    "version": 3
   },
   "file_extension": ".py",
   "mimetype": "text/x-python",
   "name": "python",
   "nbconvert_exporter": "python",
   "pygments_lexer": "ipython3",
   "version": "3.7.4"
  }
 },
 "nbformat": 4,
 "nbformat_minor": 2
}
